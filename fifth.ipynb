{
 "cells": [
  {
   "cell_type": "code",
   "execution_count": 2,
   "metadata": {},
   "outputs": [
    {
     "name": "stdout",
     "output_type": "stream",
     "text": [
      "P6 belongs to Cluster: 1\n",
      "Population of cluster around m2: 3\n",
      "Updated value of m1: [0.148 0.712]\n",
      "Updated value of m2: [0.24666667 0.2       ]\n"
     ]
    }
   ],
   "source": [
    "from sklearn.cluster import KMeans\n",
    "import numpy as np  # Import NumPy library\n",
    "\n",
    "# Given points\n",
    "points = [[0.1, 0.6], [0.15, 0.71], [0.08, 0.9], [0.16, 0.85],\n",
    "          [0.2, 0.3], [0.25, 0.5], [0.24, 0.1], [0.3, 0.2]]\n",
    "\n",
    "# Initial centroids\n",
    "m1 = [0.1, 0.6]\n",
    "m2 = [0.3, 0.2]\n",
    "\n",
    "# Fit KMeans model\n",
    "kmeans = KMeans(n_clusters=2, init=np.array([m1, m2]), n_init=1, random_state=42)\n",
    "kmeans.fit(points)\n",
    "\n",
    "# Answers to the questions\n",
    "# 1. Which cluster does P6 belong to?\n",
    "cluster_p6 = kmeans.predict([[0.25, 0.5]])\n",
    "print(\"P6 belongs to Cluster:\", cluster_p6[0] + 1)\n",
    "\n",
    "# 2. What is the population of the cluster around m2?\n",
    "population_m2 = sum(kmeans.labels_ == 1)\n",
    "print(\"Population of cluster around m2:\", population_m2)\n",
    "\n",
    "# 3. What is the updated value of m1 and m2?\n",
    "updated_centroids = kmeans.cluster_centers_\n",
    "updated_m1 = updated_centroids[0]\n",
    "updated_m2 = updated_centroids[1]\n",
    "print(\"Updated value of m1:\", updated_m1)\n",
    "print(\"Updated value of m2:\", updated_m2)\n"
   ]
  },
  {
   "cell_type": "code",
   "execution_count": null,
   "metadata": {},
   "outputs": [],
   "source": []
  }
 ],
 "metadata": {
  "kernelspec": {
   "display_name": "Python 3",
   "language": "python",
   "name": "python3"
  },
  "language_info": {
   "codemirror_mode": {
    "name": "ipython",
    "version": 3
   },
   "file_extension": ".py",
   "mimetype": "text/x-python",
   "name": "python",
   "nbconvert_exporter": "python",
   "pygments_lexer": "ipython3",
   "version": "3.7.4"
  }
 },
 "nbformat": 4,
 "nbformat_minor": 2
}
