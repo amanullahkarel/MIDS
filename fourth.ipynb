{
 "cells": [
  {
   "cell_type": "code",
   "execution_count": 2,
   "metadata": {},
   "outputs": [
    {
     "name": "stdout",
     "output_type": "stream",
     "text": [
      "a) Predict the number of rings either as a continuous value or as a classification problem.\n",
      "b) Predict the age of abalone from physical measurements using linear regression using python.\n",
      "\n",
      "Mean Squared Error: 5.062537954095235\n",
      "R-squared Score: 0.5323381317508207\n"
     ]
    }
   ],
   "source": [
    "import pandas as pd\n",
    "from sklearn.model_selection import train_test_split\n",
    "from sklearn.linear_model import LinearRegression\n",
    "from sklearn.metrics import mean_squared_error, r2_score\n",
    "from sklearn.preprocessing import LabelEncoder\n",
    "\n",
    "# Download the Abalone dataset\n",
    "url = \"http://archive.ics.uci.edu/ml/machine-learning-databases/abalone/abalone.data\"\n",
    "column_names = ['Sex', 'Length', 'Diameter', 'Height', 'Whole_weight', 'Shucked_weight', 'Viscera_weight', 'Shell_weight', 'Rings']\n",
    "abalone_data = pd.read_csv(url, names=column_names)\n",
    "\n",
    "# Convert 'Sex' to numerical values using LabelEncoder\n",
    "le = LabelEncoder()\n",
    "abalone_data['Sex'] = le.fit_transform(abalone_data['Sex'])\n",
    "\n",
    "# Split the dataset into features (X) and target variable (y)\n",
    "X = abalone_data.drop('Rings', axis=1)\n",
    "y = abalone_data['Rings']\n",
    "\n",
    "# Split the data into training and test sets\n",
    "X_train, X_test, y_train, y_test = train_test_split(X, y, test_size=0.2, random_state=42)\n",
    "\n",
    "# Linear regression model\n",
    "linear_reg = LinearRegression()\n",
    "linear_reg.fit(X_train, y_train)\n",
    "\n",
    "# Predict the number of rings\n",
    "y_pred = linear_reg.predict(X_test)\n",
    "\n",
    "# Evaluate the model\n",
    "mse = mean_squared_error(y_test, y_pred)\n",
    "r2 = r2_score(y_test, y_pred)\n",
    "\n",
    "print(\"a) Predict the number of rings either as a continuous value or as a classification problem.\")\n",
    "print(\"b) Predict the age of abalone from physical measurements using linear regression using python.\")\n",
    "print(\"\\nMean Squared Error:\", mse)\n",
    "print(\"R-squared Score:\", r2)\n"
   ]
  },
  {
   "cell_type": "code",
   "execution_count": null,
   "metadata": {},
   "outputs": [],
   "source": []
  }
 ],
 "metadata": {
  "kernelspec": {
   "display_name": "Python 3",
   "language": "python",
   "name": "python3"
  },
  "language_info": {
   "codemirror_mode": {
    "name": "ipython",
    "version": 3
   },
   "file_extension": ".py",
   "mimetype": "text/x-python",
   "name": "python",
   "nbconvert_exporter": "python",
   "pygments_lexer": "ipython3",
   "version": "3.7.4"
  }
 },
 "nbformat": 4,
 "nbformat_minor": 2
}
